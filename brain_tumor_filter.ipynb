{
 "cells": [
  {
   "cell_type": "code",
   "execution_count": 21,
   "id": "db46f0f1-00d0-46e3-80ec-f3497251169c",
   "metadata": {},
   "outputs": [],
   "source": [
    "import cv2\n",
    "import matplotlib.pyplot as plt\n",
    "import os"
   ]
  },
  {
   "cell_type": "code",
   "execution_count": 83,
   "id": "db14592b-2b10-4205-9997-75c76f13759c",
   "metadata": {
    "scrolled": true
   },
   "outputs": [
    {
     "name": "stdout",
     "output_type": "stream",
     "text": [
      "Saved: C:\\Users\\ASUS\\Documents\\ml pojects\\output_notumor\\processed_00.jpg\n",
      "Saved: C:\\Users\\ASUS\\Documents\\ml pojects\\output_notumor\\processed_01.jpg\n",
      "Saved: C:\\Users\\ASUS\\Documents\\ml pojects\\output_notumor\\processed_02.jpg\n",
      "Saved: C:\\Users\\ASUS\\Documents\\ml pojects\\output_notumor\\processed_03.jpg\n",
      "Saved: C:\\Users\\ASUS\\Documents\\ml pojects\\output_notumor\\processed_04.jpg\n",
      "Saved: C:\\Users\\ASUS\\Documents\\ml pojects\\output_notumor\\processed_05.jpg\n",
      "Saved: C:\\Users\\ASUS\\Documents\\ml pojects\\output_notumor\\processed_06.jpg\n",
      "Saved: C:\\Users\\ASUS\\Documents\\ml pojects\\output_notumor\\processed_07.jpg\n",
      "Saved: C:\\Users\\ASUS\\Documents\\ml pojects\\output_notumor\\processed_08.jpg\n",
      "Saved: C:\\Users\\ASUS\\Documents\\ml pojects\\output_notumor\\processed_09.jpg\n",
      "Saved: C:\\Users\\ASUS\\Documents\\ml pojects\\output_notumor\\processed_10.jpg\n",
      "Saved: C:\\Users\\ASUS\\Documents\\ml pojects\\output_notumor\\processed_11.jpg\n",
      "Saved: C:\\Users\\ASUS\\Documents\\ml pojects\\output_notumor\\processed_12.jpg\n",
      "Saved: C:\\Users\\ASUS\\Documents\\ml pojects\\output_notumor\\processed_13.jpg\n",
      "Saved: C:\\Users\\ASUS\\Documents\\ml pojects\\output_notumor\\processed_14.jpg\n",
      "Saved: C:\\Users\\ASUS\\Documents\\ml pojects\\output_notumor\\processed_15.jpg\n",
      "Saved: C:\\Users\\ASUS\\Documents\\ml pojects\\output_notumor\\processed_16.jpg\n",
      "Saved: C:\\Users\\ASUS\\Documents\\ml pojects\\output_notumor\\processed_17.jpg\n",
      "Saved: C:\\Users\\ASUS\\Documents\\ml pojects\\output_notumor\\processed_18.jpg\n",
      "Saved: C:\\Users\\ASUS\\Documents\\ml pojects\\output_notumor\\processed_19.jpg\n",
      "All processed images are saved in 'C:\\Users\\ASUS\\Documents\\ml pojects\\output_notumor'\n"
     ]
    }
   ],
   "source": [
    "\n",
    "folder_path = r\"C:\\Users\\ASUS\\Documents\\ml pojects\\archive\\Training\\notumor\"\n",
    "output_folder = r\"C:\\Users\\ASUS\\Documents\\ml pojects\\output_notumor\"\n",
    "processed_count = 0\n",
    "# Loop through 20 images\n",
    "final_overlay = None\n",
    "for i in range(10,30):\n",
    "    filename = os.path.join(folder_path, f\"Tr-no_{i:04d}.jpg\")  # Format as Te-glTr_0000.jpg, Te-glTr_0001.jpg, ...\n",
    "    img1 = cv2.imread(filename)\n",
    "\n",
    "    if img1 is None:\n",
    "        print(f\"Could not read image: {filename}\")\n",
    "        continue\n",
    "\n",
    "    # Apply Gaussian blur\n",
    "    img2 = cv2.GaussianBlur(img1, (3, 3), 2)\n",
    "\n",
    "    # Edge detection\n",
    "    clr_img = cv2.Canny(img1, 40, 90)\n",
    "    inverted_edges = cv2.bitwise_not(clr_img)\n",
    "\n",
    "    # Convert to grayscale if needed\n",
    "    if len(img1.shape) == 3:\n",
    "        gray_img = cv2.cvtColor(img2, cv2.COLOR_BGR2GRAY)\n",
    "    else:\n",
    "        gray_img = img2\n",
    "\n",
    "    # Resize edge image to match grayscale dimensions\n",
    "    if gray_img.shape != clr_img.shape:\n",
    "        clr_img = cv2.resize(clr_img, (gray_img.shape[1], gray_img.shape[0]))\n",
    "\n",
    "    # Apply overlay\n",
    "    overlay = cv2.bitwise_and(gray_img, inverted_edges)\n",
    "\n",
    "    # Store the last overlay for saving\n",
    "    final_overlay = overlay\n",
    "    \n",
    "  # Save processed image with a serial number\n",
    "    processed_filename = os.path.join(output_folder, f\"processed_{processed_count:02d}.jpg\")\n",
    "    cv2.imwrite(processed_filename, overlay)\n",
    "    print(f\"Saved: {processed_filename}\")\n",
    "    \n",
    "    processed_count += 1\n",
    "\n",
    "# Display a message when all images are processed\n",
    "if processed_count > 0:\n",
    "    print(f\"All processed images are saved in '{output_folder}'\")\n",
    "else:\n",
    "    print(\"No valid images were processed.\")"
   ]
  },
  {
   "cell_type": "code",
   "execution_count": null,
   "id": "79bccfc5-0226-4ade-8ade-3d22b9f8ce73",
   "metadata": {},
   "outputs": [],
   "source": []
  }
 ],
 "metadata": {
  "kernelspec": {
   "display_name": "Python 3 (ipykernel)",
   "language": "python",
   "name": "python3"
  },
  "language_info": {
   "codemirror_mode": {
    "name": "ipython",
    "version": 3
   },
   "file_extension": ".py",
   "mimetype": "text/x-python",
   "name": "python",
   "nbconvert_exporter": "python",
   "pygments_lexer": "ipython3",
   "version": "3.12.4"
  }
 },
 "nbformat": 4,
 "nbformat_minor": 5
}
